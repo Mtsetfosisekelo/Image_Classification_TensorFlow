{
  "nbformat": 4,
  "nbformat_minor": 0,
  "metadata": {
    "colab": {
      "name": "Image _Classification_cifar10_dataset.ipynb",
      "provenance": [],
      "collapsed_sections": []
    },
    "kernelspec": {
      "name": "python3",
      "display_name": "Python 3"
    },
    "accelerator": "GPU"
  },
  "cells": [
    {
      "cell_type": "markdown",
      "metadata": {
        "id": "Zs3Vxo5dmP7j"
      },
      "source": [
        "## Image classification\n",
        "\n",
        "***NOTE***\n",
        "\n",
        "Be sure to use hardware acceleration to use the GPU. Click on `Runtime`, change `runtime type`, and select `GPU` for the *hardware accelerator* option."
      ]
    },
    {
      "cell_type": "code",
      "metadata": {
        "id": "nvCXvXq5mP7p"
      },
      "source": [
        "from keras.datasets import cifar10 #importing the required data set"
      ],
      "execution_count": null,
      "outputs": []
    },
    {
      "cell_type": "code",
      "source": [
        "#loading the useful modules\n",
        "import numpy as np\n",
        "#import tensorflow as tf\n",
        "from sklearn.model_selection import train_test_split #to split the data\n",
        "from tensorflow.keras.models import Sequential\n",
        "from tensorflow.keras.layers import Dense, Conv2D,Conv3D, MaxPool2D, Flatten, Dropout\n",
        "from tensorflow.keras.losses import CategoricalCrossentropy\n",
        "from tensorflow.keras.optimizers import SGD\n",
        "from tensorflow.keras.datasets import fashion_mnist\n",
        "from tensorflow.keras.callbacks import ModelCheckpoint\n",
        "import matplotlib.pyplot as plt\n",
        "from keras.utils import np_utils\n",
        "from sklearn.metrics import accuracy_score, confusion_matrix\n",
        "from tensorflow.keras.utils import to_categorical\n",
        "from sklearn.preprocessing import LabelEncoder\n",
        "import pandas as pd\n",
        "%matplotlib inline\n",
        "np.random.seed(1337) # for reproducibility"
      ],
      "metadata": {
        "id": "xrZTwTDphOT4"
      },
      "execution_count": null,
      "outputs": []
    },
    {
      "cell_type": "markdown",
      "metadata": {
        "id": "X1GTR35cmP7v"
      },
      "source": [
        "## Load the dataset"
      ]
    },
    {
      "cell_type": "code",
      "metadata": {
        "id": "uQ_KjFJomP7x",
        "colab": {
          "base_uri": "https://localhost:8080/"
        },
        "outputId": "58eeb0fa-3f92-4b8d-ad56-1d7a3d8745b7"
      },
      "source": [
        "(X_train, Y_train), (X_test, Y_test) = cifar10.load_data() #Spliting the data into training and testing"
      ],
      "execution_count": null,
      "outputs": [
        {
          "output_type": "stream",
          "name": "stdout",
          "text": [
            "Downloading data from https://www.cs.toronto.edu/~kriz/cifar-10-python.tar.gz\n",
            "170500096/170498071 [==============================] - 3s 0us/step\n",
            "170508288/170498071 [==============================] - 3s 0us/step\n"
          ]
        }
      ]
    },
    {
      "cell_type": "code",
      "source": [
        "print(\"X_train \"+str(X_train.shape),\"\\n\"\"Y_train \"+str(Y_train.shape)) #Data check\n",
        "print(\"X_test \"+str(X_test.shape),\"\\n\"\"Y_test \"+str(Y_test.shape))"
      ],
      "metadata": {
        "colab": {
          "base_uri": "https://localhost:8080/"
        },
        "id": "QuJD2aS7hYVe",
        "outputId": "fe8dcb51-c89d-4162-b679-f54089bc4634"
      },
      "execution_count": null,
      "outputs": [
        {
          "output_type": "stream",
          "name": "stdout",
          "text": [
            "X_train (50000, 32, 32, 3) \n",
            "Y_train (50000, 1)\n",
            "X_test (10000, 32, 32, 3) \n",
            "Y_test (10000, 1)\n"
          ]
        }
      ]
    },
    {
      "cell_type": "code",
      "metadata": {
        "id": "qQpW4rajmP8C",
        "colab": {
          "base_uri": "https://localhost:8080/",
          "height": 335
        },
        "outputId": "cfee529d-b068-492c-bcda-30e25960a0e8"
      },
      "source": [
        "data_point = 140\n",
        "\n",
        "plt.figure(figsize=[10,5])\n",
        " \n",
        "# Display the first image in training data\n",
        "plt.subplot(121)\n",
        "plt.imshow(X_train[data_point,:,:], cmap='gray')\n",
        "plt.title(\"Ground Truth : {}\".format(Y_train[data_point]))\n",
        " \n",
        "# Display the first image in testing data\n",
        "plt.subplot(122)\n",
        "plt.imshow(X_test[data_point,:,:], cmap='gray')\n",
        "plt.title(\"Ground Truth : {}\".format(Y_test[data_point]))"
      ],
      "execution_count": null,
      "outputs": [
        {
          "output_type": "execute_result",
          "data": {
            "text/plain": [
              "Text(0.5, 1.0, 'Ground Truth : [6]')"
            ]
          },
          "metadata": {},
          "execution_count": 5
        },
        {
          "output_type": "display_data",
          "data": {
            "image/png": "[encoded data removed]",
            "text/plain": [
              "<Figure size 720x360 with 2 Axes>"
            ]
          },
          "metadata": {
            "needs_background": "light"
          }
        }
      ]
    },
    {
      "cell_type": "code",
      "source": [
        "print(\"max pixel = \"+str(np.max(X_train[0])),\"\\n\"\"min pixel = \"+str(np.min(X_train[0]))) #checking the range of that data, for normalization"
      ],
      "metadata": {
        "colab": {
          "base_uri": "https://localhost:8080/"
        },
        "id": "K12Ylz4EaHH5",
        "outputId": "84b48bb0-0c98-41d7-e076-6b369fd93f63"
      },
      "execution_count": null,
      "outputs": [
        {
          "output_type": "stream",
          "name": "stdout",
          "text": [
            "max pixel = 255 \n",
            "min pixel = 0\n"
          ]
        }
      ]
    },
    {
      "cell_type": "code",
      "source": [
        "X_train = X_train / 255 #Normalizing the data\n",
        "X_test = X_test / 255"
      ],
      "metadata": {
        "id": "qFC-DwENaHEb"
      },
      "execution_count": null,
      "outputs": []
    },
    {
      "cell_type": "code",
      "source": [
        "#The target are cartegorical, thus we apply one hot encoding\n",
        "print(Y_train[0]) #data check before one hot encoding\n",
        "print(Y_test[0])"
      ],
      "metadata": {
        "colab": {
          "base_uri": "https://localhost:8080/"
        },
        "id": "AHu_m_ZGbIXb",
        "outputId": "0ffffda0-cbae-4037-9dbd-0c65f717ff49"
      },
      "execution_count": null,
      "outputs": [
        {
          "output_type": "stream",
          "name": "stdout",
          "text": [
            "[6]\n",
            "[3]\n"
          ]
        }
      ]
    },
    {
      "cell_type": "code",
      "source": [
        "Y_train = np_utils.to_categorical(Y_train, 10) # One hot encoding\n",
        "Y_test = np_utils.to_categorical(Y_test, 10)\n",
        "num_classes = 10"
      ],
      "metadata": {
        "id": "bvAHW6upbIWG"
      },
      "execution_count": null,
      "outputs": []
    },
    {
      "cell_type": "code",
      "source": [
        "print(Y_train[0]) #Data check after one hot encoding\n",
        "print(Y_test[0])"
      ],
      "metadata": {
        "colab": {
          "base_uri": "https://localhost:8080/"
        },
        "id": "wnETBemfbISD",
        "outputId": "8d5154e1-2b50-4fa0-fb44-ad7fff76286b"
      },
      "execution_count": null,
      "outputs": [
        {
          "output_type": "stream",
          "name": "stdout",
          "text": [
            "[0. 0. 0. 0. 0. 0. 1. 0. 0. 0.]\n",
            "[0. 0. 0. 1. 0. 0. 0. 0. 0. 0.]\n"
          ]
        }
      ]
    },
    {
      "cell_type": "code",
      "source": [
        "X_train, X_val, Y_train, Y_val = train_test_split(X_train, Y_train, test_size=0.3) #spliting into training and validation data sets"
      ],
      "metadata": {
        "id": "UYH9-PnicDVj"
      },
      "execution_count": null,
      "outputs": []
    },
    {
      "cell_type": "markdown",
      "metadata": {
        "id": "VungsdeHmP8u"
      },
      "source": [
        "# Create a convolutional neural network"
      ]
    },
    {
      "cell_type": "code",
      "metadata": {
        "id": "gozmsPxhmP8v"
      },
      "source": [
        "# Creating the model\n",
        "def baseline_model():\n",
        "    model = Sequential()\n",
        "    \n",
        "    # Since this is the first layer, we need to specify the input shape. Only here, only once.\n",
        "    # We are creating 64 filters each of size 2x2. What will be the depth of each of those 64 filters?\n",
        "\n",
        "    # \"valid\" means no padding. \"same\" results in padding with zeros evenly to the \n",
        "    # left/right or up/down of the input such that output has the same height/width dimension as the input. \n",
        "    model.add(Conv2D(filters=64, kernel_size=2, activation='relu', input_shape=(32,32,3))) \n",
        "    \n",
        "    # Here we create a 2x2 max pooling layer\n",
        "    model.add(MaxPool2D(pool_size=2))\n",
        "\n",
        "    model.add(Conv2D(filters=124, kernel_size=2, padding='same', activation='relu')) \n",
        "    model.add(MaxPool2D(pool_size=2))\n",
        "    model.add(Conv2D(filters=124, kernel_size=2, padding='same', activation='relu')) \n",
        "    model.add(MaxPool2D(pool_size=2))\n",
        "\n",
        "    model.add(Conv2D(filters=100,kernel_size=2, padding='same', activation='relu'))\n",
        "\n",
        "    \n",
        "    model.add(Flatten())\n",
        "    \n",
        "    model.add(Dense(500, activation='relu'))\n",
        "\n",
        "    model.add(Dropout(0.5))\n",
        "    \n",
        "    model.add(Dense(10, activation='softmax'))\n",
        "\n",
        "    loss = CategoricalCrossentropy()\n",
        "    \n",
        "    # Compile the model\n",
        "    model.compile(loss=loss,\n",
        "             optimizer='adam',\n",
        "             metrics=['accuracy'])\n",
        "    return model"
      ],
      "execution_count": null,
      "outputs": []
    },
    {
      "cell_type": "markdown",
      "metadata": {
        "id": "bUN6K31smP80"
      },
      "source": [
        "## Determine the number of trainable parameters"
      ]
    },
    {
      "cell_type": "code",
      "metadata": {
        "id": "_DxDanOHmP80",
        "colab": {
          "base_uri": "https://localhost:8080/"
        },
        "outputId": "96aa22d9-0d8e-45fe-a1b0-60032bf415eb"
      },
      "source": [
        "# checking the model\n",
        "model = baseline_model()\n",
        "model.summary()"
      ],
      "execution_count": null,
      "outputs": [
        {
          "output_type": "stream",
          "name": "stdout",
          "text": [
            "Model: \"sequential\"\n",
            "_________________________________________________________________\n",
            " Layer (type)                Output Shape              Param #   \n",
            "=================================================================\n",
            " conv2d (Conv2D)             (None, 31, 31, 64)        832       \n",
            "                                                                 \n",
            " max_pooling2d (MaxPooling2D  (None, 15, 15, 64)       0         \n",
            " )                                                               \n",
            "                                                                 \n",
            " conv2d_1 (Conv2D)           (None, 15, 15, 124)       31868     \n",
            "                                                                 \n",
            " max_pooling2d_1 (MaxPooling  (None, 7, 7, 124)        0         \n",
            " 2D)                                                             \n",
            "                                                                 \n",
            " conv2d_2 (Conv2D)           (None, 7, 7, 124)         61628     \n",
            "                                                                 \n",
            " max_pooling2d_2 (MaxPooling  (None, 3, 3, 124)        0         \n",
            " 2D)                                                             \n",
            "                                                                 \n",
            " conv2d_3 (Conv2D)           (None, 3, 3, 100)         49700     \n",
            "                                                                 \n",
            " flatten (Flatten)           (None, 900)               0         \n",
            "                                                                 \n",
            " dense (Dense)               (None, 500)               450500    \n",
            "                                                                 \n",
            " dense_1 (Dense)             (None, 10)                5010      \n",
            "                                                                 \n",
            "=================================================================\n",
            "Total params: 599,538\n",
            "Trainable params: 599,538\n",
            "Non-trainable params: 0\n",
            "_________________________________________________________________\n"
          ]
        }
      ]
    },
    {
      "cell_type": "markdown",
      "metadata": {
        "id": "ifPs0mftmP84"
      },
      "source": [
        "## Train the model\n"
      ]
    },
    {
      "cell_type": "code",
      "metadata": {
        "id": "j8RZc1rhmP84",
        "colab": {
          "base_uri": "https://localhost:8080/"
        },
        "outputId": "7281c188-8bba-408c-dc7a-3142cc793c40"
      },
      "source": [
        "#Training the model\n",
        "history = model.fit(X_train, Y_train, validation_data=(X_val, Y_val) ,epochs = 100,batch_size=200)"
      ],
      "execution_count": null,
      "outputs": [
        {
          "output_type": "stream",
          "name": "stdout",
          "text": [
            "Epoch 1/20\n",
            "175/175 [==============================] - 17s 20ms/step - loss: 1.7009 - accuracy: 0.3761 - val_loss: 1.3818 - val_accuracy: 0.4934\n",
            "Epoch 2/20\n",
            "175/175 [==============================] - 3s 17ms/step - loss: 1.3258 - accuracy: 0.5209 - val_loss: 1.3265 - val_accuracy: 0.5241\n",
            "Epoch 3/20\n",
            "175/175 [==============================] - 3s 17ms/step - loss: 1.1759 - accuracy: 0.5814 - val_loss: 1.2039 - val_accuracy: 0.5706\n",
            "Epoch 4/20\n",
            "175/175 [==============================] - 3s 17ms/step - loss: 1.0522 - accuracy: 0.6285 - val_loss: 1.0312 - val_accuracy: 0.6305\n",
            "Epoch 5/20\n",
            "175/175 [==============================] - 3s 17ms/step - loss: 0.9695 - accuracy: 0.6587 - val_loss: 0.9641 - val_accuracy: 0.6626\n",
            "Epoch 6/20\n",
            "175/175 [==============================] - 3s 17ms/step - loss: 0.8748 - accuracy: 0.6941 - val_loss: 0.9421 - val_accuracy: 0.6702\n",
            "Epoch 7/20\n",
            "175/175 [==============================] - 3s 18ms/step - loss: 0.8113 - accuracy: 0.7149 - val_loss: 0.9150 - val_accuracy: 0.6819\n",
            "Epoch 8/20\n",
            "175/175 [==============================] - 3s 17ms/step - loss: 0.7465 - accuracy: 0.7378 - val_loss: 0.8540 - val_accuracy: 0.7020\n",
            "Epoch 9/20\n",
            "175/175 [==============================] - 3s 18ms/step - loss: 0.6949 - accuracy: 0.7547 - val_loss: 0.8392 - val_accuracy: 0.7108\n",
            "Epoch 10/20\n",
            "175/175 [==============================] - 3s 16ms/step - loss: 0.6447 - accuracy: 0.7740 - val_loss: 0.8272 - val_accuracy: 0.7135\n",
            "Epoch 11/20\n",
            "175/175 [==============================] - 3s 16ms/step - loss: 0.5900 - accuracy: 0.7937 - val_loss: 0.8834 - val_accuracy: 0.7037\n",
            "Epoch 12/20\n",
            "175/175 [==============================] - 3s 16ms/step - loss: 0.5557 - accuracy: 0.8073 - val_loss: 0.8838 - val_accuracy: 0.7026\n",
            "Epoch 13/20\n",
            "175/175 [==============================] - 3s 16ms/step - loss: 0.5087 - accuracy: 0.8226 - val_loss: 0.8093 - val_accuracy: 0.7303\n",
            "Epoch 14/20\n",
            "175/175 [==============================] - 3s 16ms/step - loss: 0.4519 - accuracy: 0.8433 - val_loss: 0.8522 - val_accuracy: 0.7230\n",
            "Epoch 15/20\n",
            "175/175 [==============================] - 3s 18ms/step - loss: 0.4172 - accuracy: 0.8542 - val_loss: 0.8208 - val_accuracy: 0.7345\n",
            "Epoch 16/20\n",
            "175/175 [==============================] - 3s 18ms/step - loss: 0.3686 - accuracy: 0.8716 - val_loss: 0.8946 - val_accuracy: 0.7208\n",
            "Epoch 17/20\n",
            "175/175 [==============================] - 3s 18ms/step - loss: 0.3286 - accuracy: 0.8845 - val_loss: 0.9262 - val_accuracy: 0.7183\n",
            "Epoch 18/20\n",
            "175/175 [==============================] - 3s 18ms/step - loss: 0.2900 - accuracy: 0.8993 - val_loss: 0.9436 - val_accuracy: 0.7255\n",
            "Epoch 19/20\n",
            "175/175 [==============================] - 3s 16ms/step - loss: 0.2602 - accuracy: 0.9097 - val_loss: 0.9590 - val_accuracy: 0.7337\n",
            "Epoch 20/20\n",
            "175/175 [==============================] - 3s 17ms/step - loss: 0.2248 - accuracy: 0.9222 - val_loss: 1.0408 - val_accuracy: 0.7285\n"
          ]
        }
      ]
    },
    {
      "cell_type": "markdown",
      "metadata": {
        "id": "74HVbElsaATP"
      },
      "source": [
        "## Plot the performance\n",
        "\n",
        "Plot the training and validation accuracy in a single plot"
      ]
    },
    {
      "cell_type": "code",
      "metadata": {
        "id": "6CWx4k0sKqLK",
        "colab": {
          "base_uri": "https://localhost:8080/",
          "height": 374
        },
        "outputId": "2afbc06d-fa50-434d-8aa9-0234b98c2e64"
      },
      "source": [
        "#ploting the performance of the training model and its performance on the validation data \n",
        "def plot_hist(h, xsize=6, ysize=10):\n",
        "\n",
        "    fig_size = plt.rcParams[\"figure.figsize\"]\n",
        "    plt.rcParams[\"figure.figsize\"] = [xsize, ysize]\n",
        "    fig, axes = plt.subplots(nrows=1, ncols=1, sharex=True)\n",
        "    \n",
        "    # summarize history for Accuracy\n",
        "    plt.subplot(211)\n",
        "    plt.plot(h['accuracy'])\n",
        "    plt.plot(h['val_accuracy'])\n",
        "    plt.title('Training Performance')\n",
        "    plt.ylabel('Accuracy')\n",
        "    plt.xlabel('Epochs')\n",
        "    plt.legend(['Train', 'Validation'], loc='best')\n",
        "    \n",
        "    plt.draw()\n",
        "    plt.show()\n",
        "\n",
        "    return\n",
        "plot_hist(history.history, xsize=8, ysize=12)"
      ],
      "execution_count": null,
      "outputs": [
        {
          "output_type": "display_data",
          "data": {
            "image/png": "[encoded data removed]",
            "text/plain": [
              "<Figure size 576x864 with 1 Axes>"
            ]
          },
          "metadata": {
            "needs_background": "light"
          }
        }
      ]
    },
    {
      "cell_type": "markdown",
      "metadata": {
        "id": "_j9LecHgmP8_"
      },
      "source": [
        "## Predict on the test data"
      ]
    },
    {
      "cell_type": "code",
      "source": [
        "prediction = model.predict(X_test)# PRECDICTING ON THE TEST DATA\n",
        "prediction #Data checking"
      ],
      "metadata": {
        "id": "xi_pR0EDm3qy",
        "colab": {
          "base_uri": "https://localhost:8080/"
        },
        "outputId": "8c071a21-a93b-43c3-dc41-f3ee4da35248"
      },
      "execution_count": null,
      "outputs": [
        {
          "output_type": "execute_result",
          "data": {
            "text/plain": [
              "array([[3.77449260e-06, 6.60191581e-04, 5.05944663e-05, ...,\n",
              "        7.84560507e-06, 2.35762423e-06, 9.51474874e-07],\n",
              "       [1.31407476e-04, 6.50251191e-03, 3.04061132e-09, ...,\n",
              "        1.27987099e-09, 9.93295968e-01, 7.01504614e-05],\n",
              "       [1.18830828e-02, 1.95016667e-01, 6.91603782e-05, ...,\n",
              "        6.79924005e-06, 7.86907971e-01, 6.05898770e-03],\n",
              "       ...,\n",
              "       [2.50324483e-10, 2.72617540e-10, 3.00940010e-04, ...,\n",
              "        4.11066212e-05, 2.49965687e-10, 3.22745830e-09],\n",
              "       [1.00992108e-02, 3.53143662e-02, 1.63722560e-02, ...,\n",
              "        1.96857397e-02, 6.10168354e-05, 6.86259416e-04],\n",
              "       [1.13141635e-10, 2.85457747e-13, 1.62602433e-07, ...,\n",
              "        9.99389172e-01, 3.15346605e-14, 1.08129235e-11]], dtype=float32)"
            ]
          },
          "metadata": {},
          "execution_count": 18
        }
      ]
    },
    {
      "cell_type": "code",
      "source": [
        "prediction_classes = np.argmax(prediction, axis=1)#conveting the model output to its equivalent categories\n",
        "prediction_classes #Data check"
      ],
      "metadata": {
        "id": "ri-FKg7Rmsg5",
        "colab": {
          "base_uri": "https://localhost:8080/"
        },
        "outputId": "b7aab3f2-3197-4946-b3d8-887d7248ee44"
      },
      "execution_count": null,
      "outputs": [
        {
          "output_type": "execute_result",
          "data": {
            "text/plain": [
              "array([3, 8, 8, ..., 5, 4, 7])"
            ]
          },
          "metadata": {},
          "execution_count": 19
        }
      ]
    },
    {
      "cell_type": "markdown",
      "metadata": {
        "id": "yo4UgmBvmP9F"
      },
      "source": [
        "## Compute the accuracy\n",
        "\n",
        "Get at least 65% testing accuracy"
      ]
    },
    {
      "cell_type": "code",
      "metadata": {
        "id": "NwJwKLwRmP9G",
        "colab": {
          "base_uri": "https://localhost:8080/"
        },
        "outputId": "29463110-3d29-45df-d932-daca090d5648"
      },
      "source": [
        "accuracy_score(np.argmax(Y_test,1), prediction_classes) #checking the accuracy of the model"
      ],
      "execution_count": null,
      "outputs": [
        {
          "output_type": "execute_result",
          "data": {
            "text/plain": [
              "0.7312"
            ]
          },
          "metadata": {},
          "execution_count": 20
        }
      ]
    },
    {
      "cell_type": "markdown",
      "metadata": {
        "id": "RxvpFhj7N574"
      },
      "source": [
        "## Obtain the confusion matrix"
      ]
    },
    {
      "cell_type": "code",
      "metadata": {
        "id": "PJiTOY3aWjcX"
      },
      "source": [
        "#computing the confusion matrix. The diagonals show  correctly classified values/images, while other entries show how many values belonging to a different class were classifies in the wrong class\n",
        "confusion_matrix(np.argmax(Y_test,1), prediction_classes) "
      ],
      "execution_count": null,
      "outputs": []
    }
  ]
}