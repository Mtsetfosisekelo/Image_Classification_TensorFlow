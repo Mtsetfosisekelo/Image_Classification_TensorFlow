{
  "nbformat": 4,
  "nbformat_minor": 0,
  "metadata": {
    "colab": {
      "name": "Image_Classification_mnist_dataset Practical4.ipynb",
      "provenance": [],
      "collapsed_sections": []
    },
    "kernelspec": {
      "display_name": "Python 3",
      "language": "python",
      "name": "python3"
    }
  },
  "cells": [
    {
      "cell_type": "markdown",
      "metadata": {
        "id": "Zs3Vxo5dmP7j"
      },
      "source": [
        "## Classification"
      ]
    },
    {
      "cell_type": "code",
      "metadata": {
        "id": "nvCXvXq5mP7p"
      },
      "source": [
        "from keras.datasets import mnist\n",
        "import numpy as np\n",
        "np.random.seed(1337)\n",
        "import pandas\n",
        "import tensorflow as tf\n",
        "from tensorflow.keras import Sequential\n",
        "from tensorflow.keras.layers import Dense\n",
        "from tensorflow.keras import metrics\n",
        "from sklearn.preprocessing import StandardScaler\n",
        "from sklearn.model_selection import train_test_split\n",
        "from sklearn.metrics import confusion_matrix, accuracy_score\n",
        "import matplotlib.pyplot as plt\n",
        "from keras.utils import np_utils"
      ],
      "execution_count": null,
      "outputs": []
    },
    {
      "cell_type": "markdown",
      "metadata": {
        "id": "X1GTR35cmP7v"
      },
      "source": [
        "## Load the dataset"
      ]
    },
    {
      "cell_type": "code",
      "metadata": {
        "id": "uQ_KjFJomP7x"
      },
      "source": [
        "(X_train, Y_train), (X_test, Y_test) = mnist.load_data() #loading the data"
      ],
      "execution_count": null,
      "outputs": []
    },
    {
      "cell_type": "markdown",
      "metadata": {
        "id": "E-Lw_bPQKQFX"
      },
      "source": [
        "## View the shape"
      ]
    },
    {
      "cell_type": "code",
      "metadata": {
        "id": "ueyWl-aUmP72",
        "colab": {
          "base_uri": "https://localhost:8080/"
        },
        "outputId": "33ba78df-2948-476f-ea91-3c67c78dd320"
      },
      "source": [
        "print('Training data shape : ', X_train.shape, Y_train.shape) #Data check\n",
        "print('Testing data shape : ', X_test.shape, Y_test.shape)"
      ],
      "execution_count": null,
      "outputs": [
        {
          "output_type": "stream",
          "name": "stdout",
          "text": [
            "Training data shape :  (60000, 28, 28) (60000,)\n",
            "Testing data shape :  (10000, 28, 28) (10000,)\n"
          ]
        }
      ]
    },
    {
      "cell_type": "markdown",
      "metadata": {
        "id": "z51sdOntmP78"
      },
      "source": [
        "# Find the unique classes from the train labels"
      ]
    },
    {
      "cell_type": "code",
      "metadata": {
        "id": "o29O_gUTmP79",
        "colab": {
          "base_uri": "https://localhost:8080/"
        },
        "outputId": "95ef9ccf-39ac-43e3-f484-2673374b750a"
      },
      "source": [
        "classes = np.unique(Y_train)\n",
        "nClasses = len(classes)\n",
        "print('Total number of outputs : ', nClasses)\n",
        "print('Output classes : ', classes) #We have 10 classes, thus the output will have have 10 units"
      ],
      "execution_count": null,
      "outputs": [
        {
          "output_type": "stream",
          "name": "stdout",
          "text": [
            "Total number of outputs :  10\n",
            "Output classes :  [0 1 2 3 4 5 6 7 8 9]\n"
          ]
        }
      ]
    },
    {
      "cell_type": "markdown",
      "metadata": {
        "id": "GMMjLgbimP8B"
      },
      "source": [
        "## Plot some of the data"
      ]
    },
    {
      "cell_type": "code",
      "metadata": {
        "id": "qQpW4rajmP8C",
        "colab": {
          "base_uri": "https://localhost:8080/",
          "height": 335
        },
        "outputId": "8f35c227-0db6-4eec-ced3-9ee4262fda93"
      },
      "source": [
        "plt.figure(figsize=[10,5])\n",
        " \n",
        "# Display the first image in training data\n",
        "plt.subplot(121)\n",
        "plt.imshow(X_train[0,:,:], cmap='gray')\n",
        "plt.title(\"Ground Truth : {}\".format(Y_train[0]))\n",
        " \n",
        "# Display the first image in testing data\n",
        "plt.subplot(122)\n",
        "plt.imshow(X_test[0,:,:], cmap='gray')\n",
        "plt.title(\"Ground Truth : {}\".format(Y_test[0]))"
      ],
      "execution_count": null,
      "outputs": [
        {
          "output_type": "execute_result",
          "data": {
            "text/plain": [
              "Text(0.5, 1.0, 'Ground Truth : 7')"
            ]
          },
          "metadata": {},
          "execution_count": 39
        },
        {
          "output_type": "display_data",
          "data": {
            "image/png": "[encoded data removed]",
            "text/plain": [
              "<Figure size 720x360 with 2 Axes>"
            ]
          },
          "metadata": {
            "needs_background": "light"
          }
        }
      ]
    },
    {
      "cell_type": "markdown",
      "metadata": {
        "id": "2PY8KLU-mP8H"
      },
      "source": [
        "## Flatten the data\n",
        "\n",
        "In this notebook we won't be making use of the data as \"images\" but rather as long vectors of length 784"
      ]
    },
    {
      "cell_type": "markdown",
      "metadata": {
        "id": "KVo2Tj7smP8I"
      },
      "source": [
        "## This is what an example in the dataset looks like"
      ]
    },
    {
      "cell_type": "code",
      "metadata": {
        "id": "EtB2Fh5emP8J",
        "colab": {
          "base_uri": "https://localhost:8080/"
        },
        "outputId": "5000f2f8-af6d-4181-d177-3e9d7c68922b"
      },
      "source": [
        "X_train[0].shape"
      ],
      "execution_count": null,
      "outputs": [
        {
          "output_type": "execute_result",
          "data": {
            "text/plain": [
              "(28, 28)"
            ]
          },
          "metadata": {},
          "execution_count": 40
        }
      ]
    },
    {
      "cell_type": "code",
      "metadata": {
        "id": "KCIx4MeZmP8N",
        "colab": {
          "base_uri": "https://localhost:8080/"
        },
        "outputId": "d194aa4f-8c96-451b-a7b8-d7ea892c1f89"
      },
      "source": [
        "X_train[0]"
      ],
      "execution_count": null,
      "outputs": [
        {
          "output_type": "execute_result",
          "data": {
            "text/plain": [
              "array([[  0,   0,   0,   0,   0,   0,   0,   0,   0,   0,   0,   0,   0,\n",
              "          0,   0,   0,   0,   0,   0,   0,   0,   0,   0,   0,   0,   0,\n",
              "          0,   0],\n",
              "       [  0,   0,   0,   0,   0,   0,   0,   0,   0,   0,   0,   0,   0,\n",
              "          0,   0,   0,   0,   0,   0,   0,   0,   0,   0,   0,   0,   0,\n",
              "          0,   0],\n",
              "       [  0,   0,   0,   0,   0,   0,   0,   0,   0,   0,   0,   0,   0,\n",
              "          0,   0,   0,   0,   0,   0,   0,   0,   0,   0,   0,   0,   0,\n",
              "          0,   0],\n",
              "       [  0,   0,   0,   0,   0,   0,   0,   0,   0,   0,   0,   0,   0,\n",
              "          0,   0,   0,   0,   0,   0,   0,   0,   0,   0,   0,   0,   0,\n",
              "          0,   0],\n",
              "       [  0,   0,   0,   0,   0,   0,   0,   0,   0,   0,   0,   0,   0,\n",
              "          0,   0,   0,   0,   0,   0,   0,   0,   0,   0,   0,   0,   0,\n",
              "          0,   0],\n",
              "       [  0,   0,   0,   0,   0,   0,   0,   0,   0,   0,   0,   0,   3,\n",
              "         18,  18,  18, 126, 136, 175,  26, 166, 255, 247, 127,   0,   0,\n",
              "          0,   0],\n",
              "       [  0,   0,   0,   0,   0,   0,   0,   0,  30,  36,  94, 154, 170,\n",
              "        253, 253, 253, 253, 253, 225, 172, 253, 242, 195,  64,   0,   0,\n",
              "          0,   0],\n",
              "       [  0,   0,   0,   0,   0,   0,   0,  49, 238, 253, 253, 253, 253,\n",
              "        253, 253, 253, 253, 251,  93,  82,  82,  56,  39,   0,   0,   0,\n",
              "          0,   0],\n",
              "       [  0,   0,   0,   0,   0,   0,   0,  18, 219, 253, 253, 253, 253,\n",
              "        253, 198, 182, 247, 241,   0,   0,   0,   0,   0,   0,   0,   0,\n",
              "          0,   0],\n",
              "       [  0,   0,   0,   0,   0,   0,   0,   0,  80, 156, 107, 253, 253,\n",
              "        205,  11,   0,  43, 154,   0,   0,   0,   0,   0,   0,   0,   0,\n",
              "          0,   0],\n",
              "       [  0,   0,   0,   0,   0,   0,   0,   0,   0,  14,   1, 154, 253,\n",
              "         90,   0,   0,   0,   0,   0,   0,   0,   0,   0,   0,   0,   0,\n",
              "          0,   0],\n",
              "       [  0,   0,   0,   0,   0,   0,   0,   0,   0,   0,   0, 139, 253,\n",
              "        190,   2,   0,   0,   0,   0,   0,   0,   0,   0,   0,   0,   0,\n",
              "          0,   0],\n",
              "       [  0,   0,   0,   0,   0,   0,   0,   0,   0,   0,   0,  11, 190,\n",
              "        253,  70,   0,   0,   0,   0,   0,   0,   0,   0,   0,   0,   0,\n",
              "          0,   0],\n",
              "       [  0,   0,   0,   0,   0,   0,   0,   0,   0,   0,   0,   0,  35,\n",
              "        241, 225, 160, 108,   1,   0,   0,   0,   0,   0,   0,   0,   0,\n",
              "          0,   0],\n",
              "       [  0,   0,   0,   0,   0,   0,   0,   0,   0,   0,   0,   0,   0,\n",
              "         81, 240, 253, 253, 119,  25,   0,   0,   0,   0,   0,   0,   0,\n",
              "          0,   0],\n",
              "       [  0,   0,   0,   0,   0,   0,   0,   0,   0,   0,   0,   0,   0,\n",
              "          0,  45, 186, 253, 253, 150,  27,   0,   0,   0,   0,   0,   0,\n",
              "          0,   0],\n",
              "       [  0,   0,   0,   0,   0,   0,   0,   0,   0,   0,   0,   0,   0,\n",
              "          0,   0,  16,  93, 252, 253, 187,   0,   0,   0,   0,   0,   0,\n",
              "          0,   0],\n",
              "       [  0,   0,   0,   0,   0,   0,   0,   0,   0,   0,   0,   0,   0,\n",
              "          0,   0,   0,   0, 249, 253, 249,  64,   0,   0,   0,   0,   0,\n",
              "          0,   0],\n",
              "       [  0,   0,   0,   0,   0,   0,   0,   0,   0,   0,   0,   0,   0,\n",
              "          0,  46, 130, 183, 253, 253, 207,   2,   0,   0,   0,   0,   0,\n",
              "          0,   0],\n",
              "       [  0,   0,   0,   0,   0,   0,   0,   0,   0,   0,   0,   0,  39,\n",
              "        148, 229, 253, 253, 253, 250, 182,   0,   0,   0,   0,   0,   0,\n",
              "          0,   0],\n",
              "       [  0,   0,   0,   0,   0,   0,   0,   0,   0,   0,  24, 114, 221,\n",
              "        253, 253, 253, 253, 201,  78,   0,   0,   0,   0,   0,   0,   0,\n",
              "          0,   0],\n",
              "       [  0,   0,   0,   0,   0,   0,   0,   0,  23,  66, 213, 253, 253,\n",
              "        253, 253, 198,  81,   2,   0,   0,   0,   0,   0,   0,   0,   0,\n",
              "          0,   0],\n",
              "       [  0,   0,   0,   0,   0,   0,  18, 171, 219, 253, 253, 253, 253,\n",
              "        195,  80,   9,   0,   0,   0,   0,   0,   0,   0,   0,   0,   0,\n",
              "          0,   0],\n",
              "       [  0,   0,   0,   0,  55, 172, 226, 253, 253, 253, 253, 244, 133,\n",
              "         11,   0,   0,   0,   0,   0,   0,   0,   0,   0,   0,   0,   0,\n",
              "          0,   0],\n",
              "       [  0,   0,   0,   0, 136, 253, 253, 253, 212, 135, 132,  16,   0,\n",
              "          0,   0,   0,   0,   0,   0,   0,   0,   0,   0,   0,   0,   0,\n",
              "          0,   0],\n",
              "       [  0,   0,   0,   0,   0,   0,   0,   0,   0,   0,   0,   0,   0,\n",
              "          0,   0,   0,   0,   0,   0,   0,   0,   0,   0,   0,   0,   0,\n",
              "          0,   0],\n",
              "       [  0,   0,   0,   0,   0,   0,   0,   0,   0,   0,   0,   0,   0,\n",
              "          0,   0,   0,   0,   0,   0,   0,   0,   0,   0,   0,   0,   0,\n",
              "          0,   0],\n",
              "       [  0,   0,   0,   0,   0,   0,   0,   0,   0,   0,   0,   0,   0,\n",
              "          0,   0,   0,   0,   0,   0,   0,   0,   0,   0,   0,   0,   0,\n",
              "          0,   0]], dtype=uint8)"
            ]
          },
          "metadata": {},
          "execution_count": 41
        }
      ]
    },
    {
      "cell_type": "markdown",
      "metadata": {
        "id": "doXYy1uzKWjA"
      },
      "source": [
        "## Task: Convert from image shape to a vector shape\n",
        "\n",
        "We go from 28x28 pixel sized images to a vector of length 784.\n",
        "\n",
        "We would like to reshape the training data from shape (60000, 28, 28) to (60000,784). To do this, we can make use of Numpy's *reshape* function. "
      ]
    },
    {
      "cell_type": "code",
      "metadata": {
        "id": "vQ70mEZoV3I-",
        "colab": {
          "base_uri": "https://localhost:8080/"
        },
        "outputId": "75886158-3c3e-44e8-e9a0-bac43c2852b9"
      },
      "source": [
        "X_train.shape #Before Reshaping"
      ],
      "execution_count": null,
      "outputs": [
        {
          "output_type": "execute_result",
          "data": {
            "text/plain": [
              "(60000, 28, 28)"
            ]
          },
          "metadata": {},
          "execution_count": 42
        }
      ]
    },
    {
      "cell_type": "code",
      "metadata": {
        "id": "C5f0gLa8Vsj_"
      },
      "source": [
        "num_pixels = X_train.shape[1] * X_train.shape[2]\n",
        "X_train = np.reshape(X_train, (60000,784)) #Reshaping\n",
        "X_test = np.reshape(X_test, (10000,784))"
      ],
      "execution_count": null,
      "outputs": []
    },
    {
      "cell_type": "code",
      "metadata": {
        "id": "yQW62Xe0mP8V",
        "colab": {
          "base_uri": "https://localhost:8080/"
        },
        "outputId": "40804701-b26f-47fb-a32e-42d7d23465b0"
      },
      "source": [
        "X_train.shape #After Reshaping"
      ],
      "execution_count": null,
      "outputs": [
        {
          "output_type": "execute_result",
          "data": {
            "text/plain": [
              "(60000, 784)"
            ]
          },
          "metadata": {},
          "execution_count": 45
        }
      ]
    },
    {
      "cell_type": "markdown",
      "metadata": {
        "id": "zPx7o41CK2S-"
      },
      "source": [
        "## View the first example"
      ]
    },
    {
      "cell_type": "code",
      "source": [
        "X_train[0].reshape(-1,1).shape"
      ],
      "metadata": {
        "id": "PzXHvbF0nCaA",
        "colab": {
          "base_uri": "https://localhost:8080/"
        },
        "outputId": "f2aaeaa1-26c0-44a3-9dc2-2df187386d1b"
      },
      "execution_count": null,
      "outputs": [
        {
          "output_type": "execute_result",
          "data": {
            "text/plain": [
              "(784, 1)"
            ]
          },
          "metadata": {},
          "execution_count": 46
        }
      ]
    },
    {
      "cell_type": "markdown",
      "metadata": {
        "id": "BykRwF2UmP8b"
      },
      "source": [
        "# Normalise\n",
        "\n",
        "We need to normalise the data since the values range from 0 to 255. Training NNs on data ranging between [0,1] can be easier. To do this we simply divide by the maximum value which in this case is 255."
      ]
    },
    {
      "cell_type": "code",
      "metadata": {
        "id": "FH2lcHF3mP8c"
      },
      "source": [
        "X_train = X_train/255 # Normalising the data by dividing by 255\n",
        "X_test = X_test/255 "
      ],
      "execution_count": null,
      "outputs": []
    },
    {
      "cell_type": "markdown",
      "metadata": {
        "id": "kj0QhPSsmP8e"
      },
      "source": [
        "## One hot encoding"
      ]
    },
    {
      "cell_type": "markdown",
      "metadata": {
        "id": "BQWHZ6FumP8f"
      },
      "source": [
        "We're going to want our labels as one-hot vectors, which are vectors that holds mostly 0's and one 1. One-hot encoded vectors allow us to map each category in our set of labels to a vector where only a single value is 1.\n",
        "\n",
        "0 becomes [1, 0, 0, 0, 0, 0, 0, 0, 0, 0]\n",
        "\n",
        "1 becomes [0, 1, 0, 0, 0, 0, 0, 0, 0, 0]\n",
        "\n",
        "2 becomes [0, 0, 2, 0, 0, 0, 0, 0, 0, 0]"
      ]
    },
    {
      "cell_type": "markdown",
      "metadata": {
        "id": "sGRXrRTYmP8g"
      },
      "source": [
        "## Before"
      ]
    },
    {
      "cell_type": "code",
      "metadata": {
        "id": "wrKyI7DamP8g",
        "colab": {
          "base_uri": "https://localhost:8080/"
        },
        "outputId": "e9cea59b-ef18-4674-e08e-994cb08db5bf"
      },
      "source": [
        "Y_test[0] #checking before one-hot encoding"
      ],
      "execution_count": null,
      "outputs": [
        {
          "output_type": "execute_result",
          "data": {
            "text/plain": [
              "7"
            ]
          },
          "metadata": {},
          "execution_count": 51
        }
      ]
    },
    {
      "cell_type": "code",
      "metadata": {
        "id": "i3xjsPnVmP8j"
      },
      "source": [
        "Y_train = np_utils.to_categorical(Y_train)# One-hot enconding the categorical data\n",
        "Y_test = np_utils.to_categorical(Y_test)"
      ],
      "execution_count": null,
      "outputs": []
    },
    {
      "cell_type": "markdown",
      "metadata": {
        "id": "92H9U6LkmP8m"
      },
      "source": [
        "## After"
      ]
    },
    {
      "cell_type": "code",
      "metadata": {
        "id": "tiiXZrnUmP8n",
        "colab": {
          "base_uri": "https://localhost:8080/"
        },
        "outputId": "0e2fd886-a4c6-4602-85ce-3bfd97fc7c40"
      },
      "source": [
        "Y_test[0] #Checking after one-hot encoding"
      ],
      "execution_count": null,
      "outputs": [
        {
          "output_type": "execute_result",
          "data": {
            "text/plain": [
              "array([0., 0., 0., 0., 0., 0., 0., 1., 0., 0.], dtype=float32)"
            ]
          },
          "metadata": {},
          "execution_count": 53
        }
      ]
    },
    {
      "cell_type": "code",
      "source": [
        "Y_train[0]"
      ],
      "metadata": {
        "colab": {
          "base_uri": "https://localhost:8080/"
        },
        "id": "0l7TCdvWtyKW",
        "outputId": "ce86d9fb-0bd7-455f-dcfa-dc5d842b0666"
      },
      "execution_count": null,
      "outputs": [
        {
          "output_type": "execute_result",
          "data": {
            "text/plain": [
              "array([0., 0., 0., 0., 0., 1., 0., 0., 0., 0.], dtype=float32)"
            ]
          },
          "metadata": {},
          "execution_count": 54
        }
      ]
    },
    {
      "cell_type": "markdown",
      "metadata": {
        "id": "VungsdeHmP8u"
      },
      "source": [
        "## Task: Create a neural network model"
      ]
    },
    {
      "cell_type": "code",
      "metadata": {
        "id": "gozmsPxhmP8v"
      },
      "source": [
        "# Creating the model\n",
        "def NN():\n",
        "  \n",
        "    model = Sequential() #fully connected\n",
        "    model.add(Dense(750, input_dim=784, activation='relu')) #hidden layer has 750 units,relu activation\n",
        "\n",
        "    model.add(Dense(10, activation='softmax')) #output layer has 10 units for the qo classes, softmax activation\n",
        "    \n",
        "    # Compile model\n",
        "    model.compile(loss='categorical_crossentropy',  #loss function\n",
        "                  optimizer='adam',  #optimizer\n",
        "                  metrics=['accuracy'])\n",
        "    \n",
        "    return model\n",
        "\n",
        "#Initialise the model\n",
        "model = NN()"
      ],
      "execution_count": null,
      "outputs": []
    },
    {
      "cell_type": "markdown",
      "metadata": {
        "id": "bUN6K31smP80"
      },
      "source": [
        "## Task: Determine the number of trainable parameters"
      ]
    },
    {
      "cell_type": "code",
      "metadata": {
        "id": "_DxDanOHmP80",
        "colab": {
          "base_uri": "https://localhost:8080/"
        },
        "outputId": "11569520-a4bf-4f64-9a0a-9133a74a3fb8"
      },
      "source": [
        "model.summary()# Checking Model parameters"
      ],
      "execution_count": null,
      "outputs": [
        {
          "output_type": "stream",
          "name": "stdout",
          "text": [
            "Model: \"sequential_1\"\n",
            "_________________________________________________________________\n",
            " Layer (type)                Output Shape              Param #   \n",
            "=================================================================\n",
            " dense_2 (Dense)             (None, 750)               588750    \n",
            "                                                                 \n",
            " dense_3 (Dense)             (None, 10)                7510      \n",
            "                                                                 \n",
            "=================================================================\n",
            "Total params: 596,260\n",
            "Trainable params: 596,260\n",
            "Non-trainable params: 0\n",
            "_________________________________________________________________\n"
          ]
        }
      ]
    },
    {
      "cell_type": "markdown",
      "metadata": {
        "id": "ifPs0mftmP84"
      },
      "source": [
        "## Task: Begin training\n",
        "\n",
        "Fit on the training features and targets. Also make use of the validation data you've set aside above. Set the number of epochs, batch size and also explore various *verbose* values."
      ]
    },
    {
      "cell_type": "code",
      "source": [
        "X_train, X_val, Y_train, Y_val = train_test_split(X_train, Y_train, test_size=0.3) #spliting into training and validation data sets"
      ],
      "metadata": {
        "id": "xwz2uuJ-2Yda"
      },
      "execution_count": null,
      "outputs": []
    },
    {
      "cell_type": "code",
      "metadata": {
        "id": "j8RZc1rhmP84",
        "colab": {
          "base_uri": "https://localhost:8080/"
        },
        "outputId": "b312b267-40b3-4c0d-b598-e67277a089b4"
      },
      "source": [
        "history = model.fit(X_train, Y_train, validation_data=(X_val, Y_val) ,epochs = 20)# Training the model"
      ],
      "execution_count": null,
      "outputs": [
        {
          "output_type": "stream",
          "name": "stdout",
          "text": [
            "Epoch 1/20\n",
            "1313/1313 [==============================] - 9s 6ms/step - loss: 0.2237 - accuracy: 0.9341 - val_loss: 0.1294 - val_accuracy: 0.9621\n",
            "Epoch 2/20\n",
            "1313/1313 [==============================] - 8s 6ms/step - loss: 0.0875 - accuracy: 0.9734 - val_loss: 0.0954 - val_accuracy: 0.9707\n",
            "Epoch 3/20\n",
            "1313/1313 [==============================] - 8s 6ms/step - loss: 0.0546 - accuracy: 0.9830 - val_loss: 0.0936 - val_accuracy: 0.9736\n",
            "Epoch 4/20\n",
            "1313/1313 [==============================] - 8s 6ms/step - loss: 0.0372 - accuracy: 0.9879 - val_loss: 0.0945 - val_accuracy: 0.9741\n",
            "Epoch 5/20\n",
            "1313/1313 [==============================] - 8s 6ms/step - loss: 0.0284 - accuracy: 0.9905 - val_loss: 0.0864 - val_accuracy: 0.9758\n",
            "Epoch 6/20\n",
            "1313/1313 [==============================] - 8s 6ms/step - loss: 0.0194 - accuracy: 0.9938 - val_loss: 0.1069 - val_accuracy: 0.9731\n",
            "Epoch 7/20\n",
            "1313/1313 [==============================] - 8s 6ms/step - loss: 0.0190 - accuracy: 0.9937 - val_loss: 0.0974 - val_accuracy: 0.9758\n",
            "Epoch 8/20\n",
            "1313/1313 [==============================] - 8s 6ms/step - loss: 0.0133 - accuracy: 0.9957 - val_loss: 0.1041 - val_accuracy: 0.9762\n",
            "Epoch 9/20\n",
            "1313/1313 [==============================] - 9s 7ms/step - loss: 0.0133 - accuracy: 0.9957 - val_loss: 0.1107 - val_accuracy: 0.9757\n",
            "Epoch 10/20\n",
            "1313/1313 [==============================] - 9s 7ms/step - loss: 0.0115 - accuracy: 0.9963 - val_loss: 0.1125 - val_accuracy: 0.9772\n",
            "Epoch 11/20\n",
            "1313/1313 [==============================] - 9s 7ms/step - loss: 0.0107 - accuracy: 0.9961 - val_loss: 0.1149 - val_accuracy: 0.9754\n",
            "Epoch 12/20\n",
            "1313/1313 [==============================] - 8s 6ms/step - loss: 0.0080 - accuracy: 0.9974 - val_loss: 0.1137 - val_accuracy: 0.9782\n",
            "Epoch 13/20\n",
            "1313/1313 [==============================] - 8s 6ms/step - loss: 0.0085 - accuracy: 0.9972 - val_loss: 0.1337 - val_accuracy: 0.9749\n",
            "Epoch 14/20\n",
            "1313/1313 [==============================] - 9s 7ms/step - loss: 0.0053 - accuracy: 0.9983 - val_loss: 0.1309 - val_accuracy: 0.9762\n",
            "Epoch 15/20\n",
            "1313/1313 [==============================] - 9s 6ms/step - loss: 0.0108 - accuracy: 0.9964 - val_loss: 0.1358 - val_accuracy: 0.9784\n",
            "Epoch 16/20\n",
            "1313/1313 [==============================] - 9s 7ms/step - loss: 0.0062 - accuracy: 0.9981 - val_loss: 0.1347 - val_accuracy: 0.9778\n",
            "Epoch 17/20\n",
            "1313/1313 [==============================] - 9s 7ms/step - loss: 0.0075 - accuracy: 0.9977 - val_loss: 0.1425 - val_accuracy: 0.9766\n",
            "Epoch 18/20\n",
            "1313/1313 [==============================] - 10s 8ms/step - loss: 0.0050 - accuracy: 0.9985 - val_loss: 0.1364 - val_accuracy: 0.9793\n",
            "Epoch 19/20\n",
            "1313/1313 [==============================] - 9s 7ms/step - loss: 0.0083 - accuracy: 0.9974 - val_loss: 0.1642 - val_accuracy: 0.9744\n",
            "Epoch 20/20\n",
            "1313/1313 [==============================] - 9s 7ms/step - loss: 0.0053 - accuracy: 0.9981 - val_loss: 0.1380 - val_accuracy: 0.9792\n"
          ]
        }
      ]
    },
    {
      "cell_type": "markdown",
      "metadata": {
        "id": "_j9LecHgmP8_"
      },
      "source": [
        "## Task: Predict on the test data"
      ]
    },
    {
      "cell_type": "code",
      "metadata": {
        "id": "7TtfkDWjmP8_"
      },
      "source": [
        "prediction = model.predict(X_test)# PRECDICTING ON THE TEST DATA"
      ],
      "execution_count": null,
      "outputs": []
    },
    {
      "cell_type": "code",
      "source": [
        "prediction #Data checking"
      ],
      "metadata": {
        "colab": {
          "base_uri": "https://localhost:8080/"
        },
        "id": "YvbpA8KJvF5c",
        "outputId": "e424affb-c33e-4414-e792-b76555170ab6"
      },
      "execution_count": null,
      "outputs": [
        {
          "output_type": "execute_result",
          "data": {
            "text/plain": [
              "array([[3.5922366e-21, 3.7086123e-22, 6.4408332e-18, ..., 1.0000000e+00,\n",
              "        1.6312532e-24, 3.9551348e-16],\n",
              "       [2.5121264e-18, 5.2477410e-17, 1.0000000e+00, ..., 1.0422060e-23,\n",
              "        1.5677659e-19, 1.6928749e-30],\n",
              "       [6.5904721e-19, 9.9999928e-01, 2.4532537e-10, ..., 6.7395678e-07,\n",
              "        4.1136092e-10, 3.6960934e-16],\n",
              "       ...,\n",
              "       [2.6202762e-30, 2.2068490e-21, 5.7530781e-26, ..., 9.4753298e-15,\n",
              "        2.0531106e-16, 1.5600771e-10],\n",
              "       [4.9842555e-17, 1.3983196e-20, 1.4202954e-29, ..., 1.8584240e-21,\n",
              "        8.3300811e-11, 1.4542926e-22],\n",
              "       [2.4128431e-23, 8.5514299e-31, 1.0018129e-24, ..., 4.9404785e-29,\n",
              "        3.0990722e-24, 1.8957251e-25]], dtype=float32)"
            ]
          },
          "metadata": {},
          "execution_count": 62
        }
      ]
    },
    {
      "cell_type": "code",
      "source": [
        "prediction[0] #The highest probability corresponds to a 7. Before converting to classes"
      ],
      "metadata": {
        "colab": {
          "base_uri": "https://localhost:8080/"
        },
        "id": "3LPEk3FM1sgX",
        "outputId": "56501eef-938a-4fea-dd53-9f0c83a72b82"
      },
      "execution_count": null,
      "outputs": [
        {
          "output_type": "execute_result",
          "data": {
            "text/plain": [
              "array([3.59223659e-21, 3.70861233e-22, 6.44083315e-18, 3.12831436e-17,\n",
              "       2.00497974e-28, 2.03665979e-23, 1.31407705e-33, 1.00000000e+00,\n",
              "       1.63125322e-24, 3.95513485e-16], dtype=float32)"
            ]
          },
          "metadata": {},
          "execution_count": 63
        }
      ]
    },
    {
      "cell_type": "markdown",
      "metadata": {
        "id": "yo4UgmBvmP9F"
      },
      "source": [
        "# Converting to categories"
      ]
    },
    {
      "cell_type": "code",
      "metadata": {
        "id": "KFp91RkdEDSX",
        "colab": {
          "base_uri": "https://localhost:8080/"
        },
        "outputId": "48b81b3c-de84-480f-fbf4-3d4e56fb40a3"
      },
      "source": [
        "prediction_classes = np.argmax(prediction, axis=1)#conveting the model output to its equivalent categories\n",
        "prediction_classes "
      ],
      "execution_count": null,
      "outputs": [
        {
          "output_type": "execute_result",
          "data": {
            "text/plain": [
              "array([7, 2, 1, ..., 4, 5, 6])"
            ]
          },
          "metadata": {},
          "execution_count": 64
        }
      ]
    },
    {
      "cell_type": "code",
      "source": [
        "prediction_classes[0] #The class output corresponds with the softmax network output"
      ],
      "metadata": {
        "colab": {
          "base_uri": "https://localhost:8080/"
        },
        "id": "ElTJxdTwwwNP",
        "outputId": "7d1b341c-b98a-4d96-8b7f-f9c830cdfc50"
      },
      "execution_count": null,
      "outputs": [
        {
          "output_type": "execute_result",
          "data": {
            "text/plain": [
              "7"
            ]
          },
          "metadata": {},
          "execution_count": 65
        }
      ]
    },
    {
      "cell_type": "code",
      "source": [
        "accuracy_score(np.argmax(Y_test,1), prediction_classes) #checking the accuracy of the model"
      ],
      "metadata": {
        "colab": {
          "base_uri": "https://localhost:8080/"
        },
        "id": "glWEN7jXwRiC",
        "outputId": "7cde9418-fcdb-4044-abcd-ba60e176cbcb"
      },
      "execution_count": null,
      "outputs": [
        {
          "output_type": "execute_result",
          "data": {
            "text/plain": [
              "0.9805"
            ]
          },
          "metadata": {},
          "execution_count": 66
        }
      ]
    },
    {
      "cell_type": "code",
      "source": [
        "confusion_matrix(np.argmax(Y_test,1), prediction_classes) #One way of checking the performance of the model"
      ],
      "metadata": {
        "colab": {
          "base_uri": "https://localhost:8080/"
        },
        "id": "fT85jNa07A64",
        "outputId": "933c7588-06f9-4651-ac44-848558da242f"
      },
      "execution_count": null,
      "outputs": [
        {
          "output_type": "execute_result",
          "data": {
            "text/plain": [
              "array([[ 972,    1,    1,    0,    1,    0,    2,    0,    1,    2],\n",
              "       [   0, 1126,    1,    2,    0,    1,    2,    0,    3,    0],\n",
              "       [   6,    3, 1005,    2,    3,    0,    1,    4,    7,    1],\n",
              "       [   0,    0,    4,  988,    0,    3,    0,    4,    4,    7],\n",
              "       [   1,    0,    2,    0,  961,    1,    3,    1,    2,   11],\n",
              "       [   2,    0,    0,    9,    2,  872,    2,    1,    1,    3],\n",
              "       [   5,    3,    1,    1,    6,    3,  935,    0,    4,    0],\n",
              "       [   0,    3,    5,    0,    0,    0,    0, 1009,    2,    9],\n",
              "       [   3,    0,    2,    7,    5,    4,    0,    3,  944,    6],\n",
              "       [   1,    2,    0,    2,    5,    4,    0,    2,    0,  993]])"
            ]
          },
          "metadata": {},
          "execution_count": 67
        }
      ]
    },
    {
      "cell_type": "markdown",
      "source": [
        "# Comparing the the model performance on the training data and Validation data"
      ],
      "metadata": {
        "id": "N6bf4PDo7_dL"
      }
    },
    {
      "cell_type": "code",
      "source": [
        "#ploting the performance of the training model and its performance on the validation data \n",
        "def plot_hist(h, xsize=6, ysize=10):\n",
        "\n",
        "    fig_size = plt.rcParams[\"figure.figsize\"]\n",
        "    plt.rcParams[\"figure.figsize\"] = [xsize, ysize]\n",
        "    fig, axes = plt.subplots(nrows=1, ncols=1, sharex=True)\n",
        "    \n",
        "    # summarize history for Accuracy\n",
        "    plt.subplot(211)\n",
        "    plt.plot(h['accuracy'])\n",
        "    plt.plot(h['val_accuracy'])\n",
        "    plt.title('Training Performance')\n",
        "    plt.ylabel('Accuracy')\n",
        "    plt.xlabel('Epochs')\n",
        "    plt.legend(['Train', 'Validation'], loc='best')\n",
        "    \n",
        "    plt.draw()\n",
        "    plt.show()\n",
        "\n",
        "    return\n",
        "plot_hist(history.history, xsize=8, ysize=12)"
      ],
      "metadata": {
        "colab": {
          "base_uri": "https://localhost:8080/",
          "height": 374
        },
        "id": "F72EFre91-vr",
        "outputId": "fa747ceb-7039-4a96-88c7-5a279bac3afd"
      },
      "execution_count": null,
      "outputs": [
        {
          "output_type": "display_data",
          "data": {
            "image/png": "[encoded data removed]",
            "text/plain": [
              "<Figure size 576x864 with 1 Axes>"
            ]
          },
          "metadata": {
            "needs_background": "light"
          }
        }
      ]
    }
  ]
}